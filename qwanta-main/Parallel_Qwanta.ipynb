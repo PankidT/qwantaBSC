{
 "cells": [
  {
   "cell_type": "code",
   "execution_count": 9,
   "metadata": {},
   "outputs": [],
   "source": [
    "import ray\n",
    "import time"
   ]
  },
  {
   "cell_type": "code",
   "execution_count": 3,
   "metadata": {},
   "outputs": [
    {
     "data": {
      "text/plain": [
       "{'node_ip_address': '127.0.0.1',\n",
       " 'raylet_ip_address': '127.0.0.1',\n",
       " 'redis_address': None,\n",
       " 'object_store_address': 'tcp://127.0.0.1:62764',\n",
       " 'raylet_socket_name': 'tcp://127.0.0.1:59385',\n",
       " 'webui_url': None,\n",
       " 'session_dir': 'C:\\\\Users\\\\User\\\\AppData\\\\Local\\\\Temp\\\\ray\\\\session_2022-04-05_11-13-05_723973_25232',\n",
       " 'metrics_export_port': 51553,\n",
       " 'gcs_address': '127.0.0.1:53049',\n",
       " 'address': '127.0.0.1:53049',\n",
       " 'node_id': '22e1c3e89da3dedaecd717c59334416bb64c2c0debea341b31191b05'}"
      ]
     },
     "execution_count": 3,
     "metadata": {},
     "output_type": "execute_result"
    }
   ],
   "source": [
    "ray.init()"
   ]
  },
  {
   "cell_type": "code",
   "execution_count": 5,
   "metadata": {},
   "outputs": [],
   "source": [
    "@ray.remote\n",
    "def trajectory(config):\n",
    "\n",
    "\n",
    "    result = exp.run(save_result=True)\n",
    "    return True\n"
   ]
  },
  {
   "cell_type": "code",
   "execution_count": 7,
   "metadata": {},
   "outputs": [],
   "source": [
    "result = ray.get([trajectory.remote(i) for i in range(10)])"
   ]
  },
  {
   "cell_type": "code",
   "execution_count": 8,
   "metadata": {},
   "outputs": [
    {
     "data": {
      "text/plain": [
       "[0, 1, 2, 3, 4, 5, 6, 7, 8, 9]"
      ]
     },
     "execution_count": 8,
     "metadata": {},
     "output_type": "execute_result"
    }
   ],
   "source": [
    "result"
   ]
  },
  {
   "cell_type": "code",
   "execution_count": null,
   "metadata": {},
   "outputs": [],
   "source": []
  }
 ],
 "metadata": {
  "interpreter": {
   "hash": "52589b97430ffcd4f7f3024cb982e995641686732a65e6ce6a218cf534b7f053"
  },
  "kernelspec": {
   "display_name": "Python 3.7.11 ('qwan_env')",
   "language": "python",
   "name": "python3"
  },
  "language_info": {
   "codemirror_mode": {
    "name": "ipython",
    "version": 3
   },
   "file_extension": ".py",
   "mimetype": "text/x-python",
   "name": "python",
   "nbconvert_exporter": "python",
   "pygments_lexer": "ipython3",
   "version": "3.7.11"
  },
  "orig_nbformat": 4
 },
 "nbformat": 4,
 "nbformat_minor": 2
}
