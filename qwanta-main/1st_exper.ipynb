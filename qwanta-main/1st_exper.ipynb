{
 "cells": [
  {
   "cell_type": "code",
   "execution_count": null,
   "metadata": {},
   "outputs": [],
   "source": []
  },
  {
   "cell_type": "code",
   "execution_count": 11,
   "metadata": {},
   "outputs": [
    {
     "data": {
      "text/plain": [
       "{'node_ip_address': '127.0.0.1',\n",
       " 'raylet_ip_address': '127.0.0.1',\n",
       " 'redis_address': None,\n",
       " 'object_store_address': 'tcp://127.0.0.1:63205',\n",
       " 'raylet_socket_name': 'tcp://127.0.0.1:64976',\n",
       " 'webui_url': None,\n",
       " 'session_dir': 'C:\\\\Users\\\\User\\\\AppData\\\\Local\\\\Temp\\\\ray\\\\session_2022-04-07_10-05-39_383702_27784',\n",
       " 'metrics_export_port': 56375,\n",
       " 'gcs_address': '127.0.0.1:57297',\n",
       " 'address': '127.0.0.1:57297',\n",
       " 'node_id': 'd1ed03560b36fd022b0ad370a09a6d532415594e452cd94fd35cbef5'}"
      ]
     },
     "execution_count": 11,
     "metadata": {},
     "output_type": "execute_result"
    }
   ],
   "source": [
    "import numpy as np\n",
    "from qwanta import Experiment\n",
    "import matplotlib.pyplot as plt\n",
    "import pandas as pd\n",
    "from math import radians, cos, sin, asin, sqrt\n",
    "import dill\n",
    "import requests\n",
    "import ray\n",
    "\n",
    "ray.init()"
   ]
  },
  {
   "cell_type": "markdown",
   "metadata": {},
   "source": [
    "# Define function in this simulation"
   ]
  },
  {
   "cell_type": "code",
   "execution_count": 12,
   "metadata": {},
   "outputs": [],
   "source": [
    "# Memory error\n",
    "def memError(time, tau=1):\n",
    "    p = (np.e**(-1*(time/tau)))/4 + 0.75\n",
    "    return [p, (1- p)/3, (1- p)/3, (1- p)/3]\n",
    "\n",
    "def ISS_orbit(t):\n",
    "    # [5.71756095e+01 1.06960339e+00 8.52707152e-01 4.88544727e-04]\n",
    "    \n",
    "    lat_t = 57.18*sin(radians(1.07*t + 8.53)) + 4.89\n",
    "    lon_t = 3.63*t - 22.58\n",
    "    r_iss = 6771\n",
    "    x = r_iss*np.cos(lat_t)*np.cos(lon_t)\n",
    "    y = r_iss*np.cos(lat_t)*np.sin(lon_t)\n",
    "    z = r_iss*np.sin(lat_t)\n",
    "\n",
    "    return (x, y, z)\n",
    "\n",
    "def earth_location(lat, lon):\n",
    "    lat, lon = np.deg2rad(lat), np.deg2rad(lon)\n",
    "    r_e = 6371\n",
    "    x = r_e*np.cos(lat)*np.cos(lon)\n",
    "    y = r_e*np.cos(lat)*np.sin(lon)\n",
    "    z = r_e*np.sin(lat)\n",
    "    return (x, y, z)\n",
    "\n",
    "def place(choose):\n",
    "    if choose == 'BKK':\n",
    "        return earth_location(13.4553, 100.31316)\n",
    "    elif choose == 'CM':\n",
    "        return earth_location(18.804982, 98.954428)\n",
    "    elif choose == 'SK':\n",
    "        return earth_location(7.213724, 100.594990)\n",
    "    elif choose == 'Keio':\n",
    "        return earth_location(35.38563, 139.44346)\n",
    "\n",
    "def bot(message, Disnotification=False):\n",
    "    token = 'g7AsCP08s0SQvcNQDQFF53lfizJTB6yYr8s27PVA7mc'\n",
    "    payload = {'message' : message\n",
    "          ,'notificationDisabled' : Disnotification\n",
    "          , 'stickerPackageId' : '789'\n",
    "          , 'stickerId' : '10857'}\n",
    "    r = requests.post('https://notify-api.line.me/api/notify'\n",
    "                , headers={'Authorization' : 'Bearer {}'.format(token)}\n",
    "                , params = payload)\n"
   ]
  },
  {
   "cell_type": "markdown",
   "metadata": {},
   "source": [
    "# Create experiment and run"
   ]
  },
  {
   "cell_type": "code",
   "execution_count": 13,
   "metadata": {},
   "outputs": [
    {
     "name": "stdout",
     "output_type": "stream",
     "text": [
      " pid=23168)\u001b[0m Experiments executed:   0%|          | 0/1 [00:00<?, ?it/s]\n",
      " pid=23168)\u001b[0m Parameters executed:   0%|          | 0/1 [00:00<?, ?it/s]\n"
     ]
    }
   ],
   "source": [
    "loss = [0.012] # it can setting to vary loss\n",
    "p_dep = [0.97, 0.01, 0.01, 0.01] # independent with distant\n",
    "gateErr =  [0.9975, 0.0025]\n",
    "meaErr = 0.01\n",
    "pickle_file_name = ['BKK_CM_0.012_tau1_meaErr1']\n",
    "exp_names = ['EPPS']\n",
    "\n",
    "# Please do not forget to check the place before start runing program\n",
    "nodes_info_exp = [{\n",
    "            'Node 0': {'coordinate': place('BKK')},\n",
    "            'Node 1': {'coordinate': ISS_orbit},\n",
    "            'Node 2': {'coordinate': place('CM')},\n",
    "            'numPhysicalBuffer': 20,\n",
    "            'numInternalEncodingBuffer': 20,\n",
    "            'numInternalDetectingBuffer': 10,\n",
    "            'numInternalInterfaceBuffer': 2,\n",
    "        },\n",
    "        ]\n",
    "\n",
    "# experiment base on loss\n",
    "\n",
    "@ray.remote\n",
    "def loss_vary(l, j):\n",
    "    Quantum_topology = [{\n",
    "            ('Node 0', 'Node 1'): {\n",
    "            'connection-type': 'Space',\n",
    "            'function': p_dep,\n",
    "            'loss': l,\n",
    "            'light speed': 300000, # km/s\n",
    "            'Pulse rate': 0.0001, # waiting time for next qubit (interval)\n",
    "            },\n",
    "            ('Node 1', 'Node 2'): {\n",
    "            'connection-type': 'Space',\n",
    "            'function': p_dep,\n",
    "            'loss': l,\n",
    "            'light speed': 300000,\n",
    "            'Pulse rate': 0.0001,\n",
    "            },\n",
    "            ('Node 0', 'Node 2'): {\n",
    "            'connection-type': 'Space',\n",
    "            'function': p_dep,\n",
    "            'loss': l,\n",
    "            'light speed': 300000,\n",
    "            'Pulse rate': 0.0001,\n",
    "            },\n",
    "        }\n",
    "    for _ in exp_names]\n",
    "\n",
    "# for i in range(len(loss)):\n",
    "#     Quantum_topology = [{\n",
    "#             ('Node 0', 'Node 1'): {\n",
    "#             'connection-type': 'Space',\n",
    "#             'function': p_dep,\n",
    "#             'loss': loss[i],\n",
    "#             'light speed': 300000, # km/s\n",
    "#             'Pulse rate': 0.0001, # waiting time for next qubit (interval)\n",
    "#             },\n",
    "#             ('Node 1', 'Node 2'): {\n",
    "#             'connection-type': 'Space',\n",
    "#             'function': p_dep,\n",
    "#             'loss': loss[i],\n",
    "#             'light speed': 300000,\n",
    "#             'Pulse rate': 0.0001,\n",
    "#             },\n",
    "#             ('Node 0', 'Node 2'): {\n",
    "#             'connection-type': 'Space',\n",
    "#             'function': p_dep,\n",
    "#             'loss': loss[i],\n",
    "#             'light speed': 300000,\n",
    "#             'Pulse rate': 0.0001,\n",
    "#             },\n",
    "#         }\n",
    "#     for _ in exp_names]\n",
    "\n",
    "\n",
    "\n",
    "    timelines = {}\n",
    "    for exp_name in exp_names:\n",
    "        e_tl, vis_a = Experiment.read_timeline_from_csv(f'experssdp.xlsx', excel=True, sheet_name=exp_name) \n",
    "        timelines[exp_name] = e_tl\n",
    "        \n",
    "    e_tl[2]['Resource Type'] = 'Physical'\n",
    "    e_tl[2]['Edges'] = ['Node 0', 'Node 2']\n",
    "    e_tl[2]['Num Trials'] = 9000\n",
    "\n",
    "    nodes_information = {exp_name: nodes_info_exp[index] for index, exp_name in enumerate(exp_names)}\n",
    "    networks = {exp_name: Quantum_topology[index] for index, exp_name in enumerate(exp_names)}\n",
    "    mem_func = {exp_name: memError for exp_name in exp_names}\n",
    "    gate_error = {exp_name: gateErr for exp_name in exp_names}\n",
    "    measure_error = {exp_name: meaErr for exp_name in exp_names}\n",
    "    sim_time = {exp_name: None for exp_name in exp_names}\n",
    "    labels = {exp_name: 'Physical' for exp_name in exp_names}\n",
    "\n",
    "    p = [0]\n",
    "    exper = Experiment(networks, timelines, measurementError=measure_error, nodes_info=nodes_information, memFunc=mem_func, gateError=gate_error, simTime=sim_time,\n",
    "                    parameters_set=p, collect_fidelity_history=True, repeat=5, \n",
    "                    label_records=labels,path=j, message_log='epps', progress_bar=True)\n",
    "\n",
    "    exper.run()\n",
    "\n",
    "result = ray.get([loss_vary.remote(i, j) for i, j in zip(loss, pickle_file_name)])"
   ]
  },
  {
   "cell_type": "code",
   "execution_count": null,
   "metadata": {},
   "outputs": [],
   "source": [
    "message = 'Your remote first simulation is done'\n",
    "bot(message)"
   ]
  },
  {
   "cell_type": "code",
   "execution_count": null,
   "metadata": {},
   "outputs": [],
   "source": [
    "ray.shutdown()"
   ]
  },
  {
   "cell_type": "code",
   "execution_count": null,
   "metadata": {},
   "outputs": [],
   "source": []
  }
 ],
 "metadata": {
  "kernelspec": {
   "display_name": "Python 3.10.3 64-bit",
   "language": "python",
   "name": "python3"
  },
  "language_info": {
   "codemirror_mode": {
    "name": "ipython",
    "version": 3
   },
   "file_extension": ".py",
   "mimetype": "text/x-python",
   "name": "python",
   "nbconvert_exporter": "python",
   "pygments_lexer": "ipython3",
   "version": "3.10.3"
  },
  "orig_nbformat": 4,
  "vscode": {
   "interpreter": {
    "hash": "afb734500600fd355917ca529030176ea0ca205570884b88f2f6f7d791fd3fbe"
   }
  }
 },
 "nbformat": 4,
 "nbformat_minor": 2
}
