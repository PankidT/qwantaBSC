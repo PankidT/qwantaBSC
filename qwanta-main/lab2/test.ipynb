{
 "cells": [
  {
   "cell_type": "code",
   "execution_count": 79,
   "metadata": {},
   "outputs": [],
   "source": [
    "import numpy as np\n",
    "import pandas as pd\n",
    "import matplotlib\n",
    "import matplotlib.pyplot as plt\n",
    "import seaborn as sns\n",
    "\n",
    "Tfont = {'fontname':'TH Sarabun New', 'size':16}\n",
    "Tfont2 = {'fontname':'TH Sarabun New', 'size':30}\n",
    "Nfont = {'fontname':'Tahoma', 'size':5}\n",
    "np.set_printoptions(precision=3, suppress=True)"
   ]
  },
  {
   "cell_type": "code",
   "execution_count": 49,
   "metadata": {},
   "outputs": [],
   "source": [
    "df = pd.read_excel('data1.xlsx')\n",
    "df_Header = np.array(df.columns)\n",
    "df_corr = df.corr()\n",
    "df_arr = np.array(df_corr)"
   ]
  },
  {
   "cell_type": "code",
   "execution_count": 46,
   "metadata": {},
   "outputs": [
    {
     "data": {
      "text/html": [
       "<div>\n",
       "<style scoped>\n",
       "    .dataframe tbody tr th:only-of-type {\n",
       "        vertical-align: middle;\n",
       "    }\n",
       "\n",
       "    .dataframe tbody tr th {\n",
       "        vertical-align: top;\n",
       "    }\n",
       "\n",
       "    .dataframe thead th {\n",
       "        text-align: right;\n",
       "    }\n",
       "</style>\n",
       "<table border=\"1\" class=\"dataframe\">\n",
       "  <thead>\n",
       "    <tr style=\"text-align: right;\">\n",
       "      <th></th>\n",
       "      <th>fre</th>\n",
       "      <th>amp</th>\n",
       "    </tr>\n",
       "  </thead>\n",
       "  <tbody>\n",
       "    <tr>\n",
       "      <th>fre</th>\n",
       "      <td>1.000000</td>\n",
       "      <td>0.152097</td>\n",
       "    </tr>\n",
       "    <tr>\n",
       "      <th>amp</th>\n",
       "      <td>0.152097</td>\n",
       "      <td>1.000000</td>\n",
       "    </tr>\n",
       "  </tbody>\n",
       "</table>\n",
       "</div>"
      ],
      "text/plain": [
       "          fre       amp\n",
       "fre  1.000000  0.152097\n",
       "amp  0.152097  1.000000"
      ]
     },
     "execution_count": 46,
     "metadata": {},
     "output_type": "execute_result"
    }
   ],
   "source": [
    "df_corr"
   ]
  },
  {
   "cell_type": "code",
   "execution_count": 82,
   "metadata": {},
   "outputs": [
    {
     "data": {
      "image/png": "[encoded data removed]",
      "text/plain": [
       "<Figure size 750x600 with 2 Axes>"
      ]
     },
     "metadata": {
      "needs_background": "light"
     },
     "output_type": "display_data"
    }
   ],
   "source": [
    "fig = plt.figure(dpi=150, figsize=(5, 4))\n",
    "ax = plt.gca()\n",
    "im = ax.imshow(df_arr, vmin=-1, vmax=1, cmap=sns.diverging_palette(20, 230, as_cmap=True)) # 20 = red, 230 = blue\n",
    "cbar = ax.figure.colorbar(im, ax=ax, shrink=0.5)\n",
    "cbar.ax.set_ylabel('correlation scale', rotation=-90, va='bottom')\n",
    "ax.set_xticks(np.arange(df_arr.shape[1]))\n",
    "ax.set_yticks(np.arange(df_arr.shape[0]))\n",
    "ax.set_xticklabels(df_Header)\n",
    "ax.set_yticklabels(df_Header)\n",
    "ax.tick_params(top=True, bottom=False, labeltop=True, labelbottom=False)\n",
    "plt.setp(ax.get_xticklabels(), rotation=35, ha=\"left\", rotation_mode='anchor')\n",
    "\n",
    "ax.spines[:].set_visible(False)\n",
    "ax.set_xticks(np.arange(df_arr.shape[1]+1)-.5, minor=True)\n",
    "ax.set_yticks(np.arange(df_arr.shape[1]+1)-.5, minor=True)\n",
    "\n",
    "ax.grid(which='minor', color='w', linestyle='-', linewidth=1)\n",
    "ax.tick_params(which='minor', bottom=False, left=False)\n",
    "\n",
    "kw = dict(horizontalalignment='center', verticalalignment='center')\n",
    "textcolor=['black', 'white']\n",
    "threshold=0\n",
    "valfmt='{x:.2f}'\n",
    "valfmt=matplotlib.ticker.StrMethodFormatter(valfmt)\n",
    "for i in range(df_arr.shape[0]):\n",
    "    for j in range(df_arr.shape[1]):\n",
    "        kw.update(color=textcolor[int(df_arr[i, j]<threshold)])\n",
    "        im.axes.text(j, i, valfmt(df_arr[i, j], None), **kw, **Nfont)"
   ]
  },
  {
   "cell_type": "code",
   "execution_count": 55,
   "metadata": {},
   "outputs": [
    {
     "data": {
      "image/png": "[encoded data removed]",
      "text/plain": [
       "<Figure size 432x288 with 2 Axes>"
      ]
     },
     "metadata": {
      "needs_background": "light"
     },
     "output_type": "display_data"
    }
   ],
   "source": [
    "ax = sns.heatmap(df_arr, annot=True, linewidths=.5)"
   ]
  },
  {
   "cell_type": "code",
   "execution_count": null,
   "metadata": {},
   "outputs": [],
   "source": []
  }
 ],
 "metadata": {
  "interpreter": {
   "hash": "4e0b39fdc4f2df2992ef135d097972ec225e019845a073717c5b1bc8df292c8a"
  },
  "kernelspec": {
   "display_name": "Python 3.10.1 64-bit",
   "language": "python",
   "name": "python3"
  },
  "language_info": {
   "codemirror_mode": {
    "name": "ipython",
    "version": 3
   },
   "file_extension": ".py",
   "mimetype": "text/x-python",
   "name": "python",
   "nbconvert_exporter": "python",
   "pygments_lexer": "ipython3",
   "version": "3.9.7"
  },
  "orig_nbformat": 4
 },
 "nbformat": 4,
 "nbformat_minor": 2
}
