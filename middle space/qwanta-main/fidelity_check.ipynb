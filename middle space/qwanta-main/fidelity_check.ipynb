{
 "cells": [
  {
   "cell_type": "code",
   "execution_count": 2,
   "metadata": {},
   "outputs": [],
   "source": [
    "import numpy as np\n",
    "import dill\n",
    "import matplotlib.pyplot as plt\n",
    "from math import radians, cos, sin, asin, sqrt\n",
    "import seaborn as sns"
   ]
  },
  {
   "cell_type": "code",
   "execution_count": 3,
   "metadata": {},
   "outputs": [],
   "source": [
    "def openPickle(folder):\n",
    "    with open(folder+'/Result_epps_expEPPS_p0_r0.pkl', 'rb') as f:\n",
    "        file1 = dill.load(f)\n",
    "    with open(folder+'/Result_epps_expEPPS_p0_r1.pkl', 'rb') as f:\n",
    "        file2 = dill.load(f)\n",
    "    with open(folder+'/Result_epps_expEPPS_p0_r2.pkl', 'rb') as f:\n",
    "        file3 = dill.load(f)\n",
    "    with open(folder+'/Result_epps_expEPPS_p0_r3.pkl', 'rb') as f:\n",
    "        file4 = dill.load(f)\n",
    "    with open(folder+'/Result_epps_expEPPS_p0_r4.pkl', 'rb') as f:\n",
    "        file5 = dill.load(f)\n",
    "    all_file = [file1, file2, file3, file4, file5]\n",
    "    return all_file\n",
    "\n",
    "def plot_all(dataset, init, final, title, plot=True):\n",
    "    if plot == True:\n",
    "        x = np.linspace(init, final, len(dataset[0]['Fidelity History'][init:]))\n",
    "        plt.plot(x, dataset[0]['Fidelity History'][init:final+1], '-r')\n",
    "        plt.plot(x, dataset[1]['Fidelity History'][init:final+1], '-g')\n",
    "        plt.plot(x, dataset[2]['Fidelity History'][init:final+1], '-b')\n",
    "        plt.plot(x, dataset[3]['Fidelity History'][init:final+1], '-c')\n",
    "        plt.plot(x, dataset[4]['Fidelity History'][init:final+1], '-m')\n",
    "        plt.xlabel('Direct fidelity estimation')\n",
    "        plt.ylabel('Fidelity')\n",
    "        plt.title(title)\n",
    "        plt.show()\n",
    "\n",
    "    avg_ssdp = []\n",
    "    avg_ssdp.append(dataset[0]['Fidelity History'][init:final+1])\n",
    "    avg_ssdp.append(dataset[1]['Fidelity History'][init:final+1])\n",
    "    avg_ssdp.append(dataset[2]['Fidelity History'][init:final+1])\n",
    "    avg_ssdp.append(dataset[3]['Fidelity History'][init:final+1])\n",
    "    avg_ssdp.append(dataset[4]['Fidelity History'][init:final+1])\n",
    "    avg_ssdp = np.array(avg_ssdp)\n",
    "\n",
    "    mean_ssdp = avg_ssdp.mean(axis=0)\n",
    "    std_ssdp = avg_ssdp.std(axis=0)\n",
    "    print(\"9000 DFE\", round(mean_ssdp[-1], 3))\n",
    "\n",
    "    if plot == True:\n",
    "        plt.xlabel('Direct fidelity estimation')\n",
    "        plt.ylabel('Fidelity')\n",
    "        plt.title(title)\n",
    "\n",
    "        plt.plot(np.linspace(init, final+1, final+1-init), mean_ssdp, '-', color='cornflowerblue')\n",
    "        plt.fill_between(np.linspace(init, final+1, final+1-init), mean_ssdp-std_ssdp, mean_ssdp+std_ssdp, alpha=0.3, color='cornflowerblue')\n",
    "        plt.show()\n",
    "\n",
    "    return round(mean_ssdp[-1], 3)"
   ]
  },
  {
   "cell_type": "code",
   "execution_count": 4,
   "metadata": {},
   "outputs": [
    {
     "name": "stdout",
     "output_type": "stream",
     "text": [
      "9000 DFE 0.795\n",
      "9000 DFE 0.79\n",
      "9000 DFE 0.785\n",
      "9000 DFE 0.756\n"
     ]
    },
    {
     "data": {
      "text/plain": [
       "0.756"
      ]
     },
     "execution_count": 4,
     "metadata": {},
     "output_type": "execute_result"
    }
   ],
   "source": [
    "plot_all(openPickle('meaErr_0.05/tau0.25/BKK_CM_0.001_tau0.25_meaErr5'), 1000, 9000, 'BKK_CM, loss=0.001 tau=0.25', plot=False)\n",
    "plot_all(openPickle('meaErr_0.05/tau0.25/BKK_CM_0.003_tau0.25_meaErr5'), 1000, 9000, 'BKK_CM, loss=0.003 tau=0.25', plot=False)\n",
    "plot_all(openPickle('meaErr_0.05/tau0.25/BKK_CM_0.006_tau0.25_meaErr5'), 1000, 9000, 'BKK_CM, loss=0.006 tau=0.25', plot=False)\n",
    "plot_all(openPickle('meaErr_0.05/tau0.25/BKK_CM_0.009_tau0.25_meaErr5'), 1000, 9000, 'BKK_CM, loss=0.009 tau=0.25', plot=False)\n"
   ]
  },
  {
   "cell_type": "code",
   "execution_count": 4,
   "metadata": {},
   "outputs": [
    {
     "name": "stdout",
     "output_type": "stream",
     "text": [
      "9000 DFE 0.775\n",
      "9000 DFE 0.777\n"
     ]
    },
    {
     "data": {
      "text/plain": [
       "0.777"
      ]
     },
     "execution_count": 4,
     "metadata": {},
     "output_type": "execute_result"
    }
   ],
   "source": [
    "plot_all(openPickle('SK_CM_0.001_tau0.25_meaErr5'), 1000, 9000, 'SK_CM, loss=0.001 tau=0.25', plot=False)\n",
    "plot_all(openPickle('SK_CM_0.003_tau0.25_meaErr5'), 1000, 9000, 'SK_CM, loss=0.003 tau=0.25', plot=False)\n"
   ]
  },
  {
   "cell_type": "code",
   "execution_count": 7,
   "metadata": {},
   "outputs": [
    {
     "name": "stdout",
     "output_type": "stream",
     "text": [
      "9000 DFE 0.789\n",
      "9000 DFE 0.795\n",
      "9000 DFE 0.772\n",
      "9000 DFE 0.744\n"
     ]
    },
    {
     "data": {
      "text/plain": [
       "0.744"
      ]
     },
     "execution_count": 7,
     "metadata": {},
     "output_type": "execute_result"
    }
   ],
   "source": [
    "plot_all(openPickle('meaErr_0.05/tau0.25/BKK_SK_0.001_tau0.25_meaErr5'), 1000, 9000, 'SK_CM, loss=0.001 tau=0.25', plot=False)\n",
    "plot_all(openPickle('meaErr_0.05/tau0.25/BKK_SK_0.003_tau0.25_meaErr5'), 1000, 9000, 'SK_CM, loss=0.003 tau=0.25', plot=False)\n",
    "plot_all(openPickle('meaErr_0.05/tau0.25/BKK_SK_0.006_tau0.25_meaErr5'), 1000, 9000, 'SK_CM, loss=0.006 tau=0.25', plot=False)\n",
    "plot_all(openPickle('meaErr_0.05/tau0.25/BKK_SK_0.009_tau0.25_meaErr5'), 1000, 9000, 'SK_CM, loss=0.009 tau=0.25', plot=False)\n"
   ]
  },
  {
   "cell_type": "code",
   "execution_count": null,
   "metadata": {},
   "outputs": [],
   "source": []
  }
 ],
 "metadata": {
  "interpreter": {
   "hash": "bffc20c2f99d3a31c5f022477b00509279118ca50a05565041e76b6e9c5d968a"
  },
  "kernelspec": {
   "display_name": "Python 3.7.6 ('base')",
   "language": "python",
   "name": "python3"
  },
  "language_info": {
   "codemirror_mode": {
    "name": "ipython",
    "version": 3
   },
   "file_extension": ".py",
   "mimetype": "text/x-python",
   "name": "python",
   "nbconvert_exporter": "python",
   "pygments_lexer": "ipython3",
   "version": "3.9.10"
  },
  "orig_nbformat": 4
 },
 "nbformat": 4,
 "nbformat_minor": 2
}
